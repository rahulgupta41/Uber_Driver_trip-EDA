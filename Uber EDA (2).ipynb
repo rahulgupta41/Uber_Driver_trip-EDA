{
 "cells": [
  {
   "cell_type": "markdown",
   "id": "7f416447",
   "metadata": {},
   "source": [
    "# Uber Exploratory Data Analysis With Python"
   ]
  },
  {
   "cell_type": "code",
   "execution_count": 5,
   "id": "f201cf42",
   "metadata": {},
   "outputs": [],
   "source": [
    "import pandas as pd\n",
    "import numpy as np\n",
    "import datetime\n",
    "import matplotlib\n",
    "import matplotlib.pyplot as plt\n",
    "import seaborn as sns\n",
    "import calendar"
   ]
  },
  {
   "cell_type": "code",
   "execution_count": 6,
   "id": "25fa949d",
   "metadata": {},
   "outputs": [],
   "source": [
    "df=pd.read_csv('Uber Drive.csv')"
   ]
  },
  {
   "cell_type": "code",
   "execution_count": 72,
   "id": "2b9c0b62",
   "metadata": {},
   "outputs": [
    {
     "data": {
      "text/html": [
       "<div>\n",
       "<style scoped>\n",
       "    .dataframe tbody tr th:only-of-type {\n",
       "        vertical-align: middle;\n",
       "    }\n",
       "\n",
       "    .dataframe tbody tr th {\n",
       "        vertical-align: top;\n",
       "    }\n",
       "\n",
       "    .dataframe thead th {\n",
       "        text-align: right;\n",
       "    }\n",
       "</style>\n",
       "<table border=\"1\" class=\"dataframe\">\n",
       "  <thead>\n",
       "    <tr style=\"text-align: right;\">\n",
       "      <th></th>\n",
       "      <th>START_DATE*</th>\n",
       "      <th>END_DATE*</th>\n",
       "      <th>CATEGORY*</th>\n",
       "      <th>START*</th>\n",
       "      <th>STOP*</th>\n",
       "      <th>MILES*</th>\n",
       "      <th>PURPOSE*</th>\n",
       "    </tr>\n",
       "  </thead>\n",
       "  <tbody>\n",
       "    <tr>\n",
       "      <th>0</th>\n",
       "      <td>1/1/2016 21:11</td>\n",
       "      <td>1/1/2016 21:17</td>\n",
       "      <td>Business</td>\n",
       "      <td>Fort Pierce</td>\n",
       "      <td>Fort Pierce</td>\n",
       "      <td>5.1</td>\n",
       "      <td>Meal/Entertain</td>\n",
       "    </tr>\n",
       "    <tr>\n",
       "      <th>1</th>\n",
       "      <td>1/2/2016 1:25</td>\n",
       "      <td>1/2/2016 1:37</td>\n",
       "      <td>Business</td>\n",
       "      <td>Fort Pierce</td>\n",
       "      <td>Fort Pierce</td>\n",
       "      <td>5.0</td>\n",
       "      <td>NaN</td>\n",
       "    </tr>\n",
       "    <tr>\n",
       "      <th>2</th>\n",
       "      <td>1/2/2016 20:25</td>\n",
       "      <td>1/2/2016 20:38</td>\n",
       "      <td>Business</td>\n",
       "      <td>Fort Pierce</td>\n",
       "      <td>Fort Pierce</td>\n",
       "      <td>4.8</td>\n",
       "      <td>Errand/Supplies</td>\n",
       "    </tr>\n",
       "    <tr>\n",
       "      <th>3</th>\n",
       "      <td>1/5/2016 17:31</td>\n",
       "      <td>1/5/2016 17:45</td>\n",
       "      <td>Business</td>\n",
       "      <td>Fort Pierce</td>\n",
       "      <td>Fort Pierce</td>\n",
       "      <td>4.7</td>\n",
       "      <td>Meeting</td>\n",
       "    </tr>\n",
       "    <tr>\n",
       "      <th>4</th>\n",
       "      <td>1/6/2016 14:42</td>\n",
       "      <td>1/6/2016 15:49</td>\n",
       "      <td>Business</td>\n",
       "      <td>Fort Pierce</td>\n",
       "      <td>West Palm Beach</td>\n",
       "      <td>63.7</td>\n",
       "      <td>Customer Visit</td>\n",
       "    </tr>\n",
       "  </tbody>\n",
       "</table>\n",
       "</div>"
      ],
      "text/plain": [
       "      START_DATE*       END_DATE* CATEGORY*       START*            STOP*  \\\n",
       "0  1/1/2016 21:11  1/1/2016 21:17  Business  Fort Pierce      Fort Pierce   \n",
       "1   1/2/2016 1:25   1/2/2016 1:37  Business  Fort Pierce      Fort Pierce   \n",
       "2  1/2/2016 20:25  1/2/2016 20:38  Business  Fort Pierce      Fort Pierce   \n",
       "3  1/5/2016 17:31  1/5/2016 17:45  Business  Fort Pierce      Fort Pierce   \n",
       "4  1/6/2016 14:42  1/6/2016 15:49  Business  Fort Pierce  West Palm Beach   \n",
       "\n",
       "   MILES*         PURPOSE*  \n",
       "0     5.1   Meal/Entertain  \n",
       "1     5.0              NaN  \n",
       "2     4.8  Errand/Supplies  \n",
       "3     4.7          Meeting  \n",
       "4    63.7   Customer Visit  "
      ]
     },
     "execution_count": 72,
     "metadata": {},
     "output_type": "execute_result"
    }
   ],
   "source": [
    "df.head()"
   ]
  },
  {
   "cell_type": "code",
   "execution_count": 73,
   "id": "f980cf04",
   "metadata": {},
   "outputs": [],
   "source": [
    "col_name = ['Start_info', 'End_info', 'Category', 'Pickup', 'Drop', 'Distance', 'Purpose']"
   ]
  },
  {
   "cell_type": "code",
   "execution_count": 74,
   "id": "2448730f",
   "metadata": {},
   "outputs": [],
   "source": [
    "df.columns = col_name"
   ]
  },
  {
   "cell_type": "code",
   "execution_count": 75,
   "id": "aab01a20",
   "metadata": {},
   "outputs": [
    {
     "data": {
      "text/html": [
       "<div>\n",
       "<style scoped>\n",
       "    .dataframe tbody tr th:only-of-type {\n",
       "        vertical-align: middle;\n",
       "    }\n",
       "\n",
       "    .dataframe tbody tr th {\n",
       "        vertical-align: top;\n",
       "    }\n",
       "\n",
       "    .dataframe thead th {\n",
       "        text-align: right;\n",
       "    }\n",
       "</style>\n",
       "<table border=\"1\" class=\"dataframe\">\n",
       "  <thead>\n",
       "    <tr style=\"text-align: right;\">\n",
       "      <th></th>\n",
       "      <th>Start_info</th>\n",
       "      <th>End_info</th>\n",
       "      <th>Category</th>\n",
       "      <th>Pickup</th>\n",
       "      <th>Drop</th>\n",
       "      <th>Distance</th>\n",
       "      <th>Purpose</th>\n",
       "    </tr>\n",
       "  </thead>\n",
       "  <tbody>\n",
       "    <tr>\n",
       "      <th>0</th>\n",
       "      <td>1/1/2016 21:11</td>\n",
       "      <td>1/1/2016 21:17</td>\n",
       "      <td>Business</td>\n",
       "      <td>Fort Pierce</td>\n",
       "      <td>Fort Pierce</td>\n",
       "      <td>5.1</td>\n",
       "      <td>Meal/Entertain</td>\n",
       "    </tr>\n",
       "    <tr>\n",
       "      <th>1</th>\n",
       "      <td>1/2/2016 1:25</td>\n",
       "      <td>1/2/2016 1:37</td>\n",
       "      <td>Business</td>\n",
       "      <td>Fort Pierce</td>\n",
       "      <td>Fort Pierce</td>\n",
       "      <td>5.0</td>\n",
       "      <td>NaN</td>\n",
       "    </tr>\n",
       "    <tr>\n",
       "      <th>2</th>\n",
       "      <td>1/2/2016 20:25</td>\n",
       "      <td>1/2/2016 20:38</td>\n",
       "      <td>Business</td>\n",
       "      <td>Fort Pierce</td>\n",
       "      <td>Fort Pierce</td>\n",
       "      <td>4.8</td>\n",
       "      <td>Errand/Supplies</td>\n",
       "    </tr>\n",
       "    <tr>\n",
       "      <th>3</th>\n",
       "      <td>1/5/2016 17:31</td>\n",
       "      <td>1/5/2016 17:45</td>\n",
       "      <td>Business</td>\n",
       "      <td>Fort Pierce</td>\n",
       "      <td>Fort Pierce</td>\n",
       "      <td>4.7</td>\n",
       "      <td>Meeting</td>\n",
       "    </tr>\n",
       "    <tr>\n",
       "      <th>4</th>\n",
       "      <td>1/6/2016 14:42</td>\n",
       "      <td>1/6/2016 15:49</td>\n",
       "      <td>Business</td>\n",
       "      <td>Fort Pierce</td>\n",
       "      <td>West Palm Beach</td>\n",
       "      <td>63.7</td>\n",
       "      <td>Customer Visit</td>\n",
       "    </tr>\n",
       "  </tbody>\n",
       "</table>\n",
       "</div>"
      ],
      "text/plain": [
       "       Start_info        End_info  Category       Pickup             Drop  \\\n",
       "0  1/1/2016 21:11  1/1/2016 21:17  Business  Fort Pierce      Fort Pierce   \n",
       "1   1/2/2016 1:25   1/2/2016 1:37  Business  Fort Pierce      Fort Pierce   \n",
       "2  1/2/2016 20:25  1/2/2016 20:38  Business  Fort Pierce      Fort Pierce   \n",
       "3  1/5/2016 17:31  1/5/2016 17:45  Business  Fort Pierce      Fort Pierce   \n",
       "4  1/6/2016 14:42  1/6/2016 15:49  Business  Fort Pierce  West Palm Beach   \n",
       "\n",
       "   Distance          Purpose  \n",
       "0       5.1   Meal/Entertain  \n",
       "1       5.0              NaN  \n",
       "2       4.8  Errand/Supplies  \n",
       "3       4.7          Meeting  \n",
       "4      63.7   Customer Visit  "
      ]
     },
     "execution_count": 75,
     "metadata": {},
     "output_type": "execute_result"
    }
   ],
   "source": [
    "df.head()"
   ]
  },
  {
   "cell_type": "markdown",
   "id": "6d17a23a",
   "metadata": {},
   "source": [
    "If a data is not available, Python uses NaN to represnet it."
   ]
  },
  {
   "cell_type": "code",
   "execution_count": 76,
   "id": "1878f9ee",
   "metadata": {},
   "outputs": [
    {
     "data": {
      "text/plain": [
       "Start_info    False\n",
       "End_info       True\n",
       "Category       True\n",
       "Pickup         True\n",
       "Drop           True\n",
       "Distance      False\n",
       "Purpose        True\n",
       "dtype: bool"
      ]
     },
     "execution_count": 76,
     "metadata": {},
     "output_type": "execute_result"
    }
   ],
   "source": [
    "df.isnull().any()"
   ]
  },
  {
   "cell_type": "code",
   "execution_count": 77,
   "id": "1e4c1aa6",
   "metadata": {},
   "outputs": [
    {
     "data": {
      "text/plain": [
       "Start_info      0\n",
       "End_info        1\n",
       "Category        1\n",
       "Pickup          1\n",
       "Drop            1\n",
       "Distance        0\n",
       "Purpose       503\n",
       "dtype: int64"
      ]
     },
     "execution_count": 77,
     "metadata": {},
     "output_type": "execute_result"
    }
   ],
   "source": [
    "df.isnull().sum()"
   ]
  },
  {
   "cell_type": "code",
   "execution_count": 78,
   "id": "0f9b81ac",
   "metadata": {},
   "outputs": [],
   "source": [
    "df=df.dropna()"
   ]
  },
  {
   "cell_type": "code",
   "execution_count": 79,
   "id": "3afa4fa8",
   "metadata": {},
   "outputs": [
    {
     "data": {
      "text/plain": [
       "Start_info    0\n",
       "End_info      0\n",
       "Category      0\n",
       "Pickup        0\n",
       "Drop          0\n",
       "Distance      0\n",
       "Purpose       0\n",
       "dtype: int64"
      ]
     },
     "execution_count": 79,
     "metadata": {},
     "output_type": "execute_result"
    }
   ],
   "source": [
    "df.isnull().sum()"
   ]
  },
  {
   "cell_type": "markdown",
   "id": "90cdd715",
   "metadata": {},
   "source": [
    "Now we can see that there are not missing values in the dataset."
   ]
  },
  {
   "cell_type": "code",
   "execution_count": 80,
   "id": "48dc4aa7",
   "metadata": {},
   "outputs": [],
   "source": [
    "df['Start_info'] = pd.to_datetime(df['Start_info'], format=\"%m/%d/%Y %H:%M\")\n",
    "df['End_info*'] = pd.to_datetime(df['End_info'], format=\"%m/%d/%Y %H:%M\")"
   ]
  },
  {
   "cell_type": "code",
   "execution_count": 81,
   "id": "64372c08",
   "metadata": {},
   "outputs": [],
   "source": [
    "hour=[]\n",
    "day=[]\n",
    "dayofweek=[]\n",
    "month=[]\n",
    "weekday=[]\n",
    "for x in df['Start_info']:\n",
    "    hour.append(x.hour)\n",
    "    day.append(x.day)\n",
    "    dayofweek.append(x.dayofweek)\n",
    "    month.append(x.month)\n",
    "    weekday.append(calendar.day_name[dayofweek[-1]])\n",
    "df['HOUR']=hour\n",
    "df['DAY']=day\n",
    "df['DAY_OF_WEEK']=dayofweek\n",
    "df['MONTH']=month\n",
    "df['WEEKDAY']=weekday"
   ]
  },
  {
   "cell_type": "code",
   "execution_count": 82,
   "id": "cb89a9f6",
   "metadata": {},
   "outputs": [
    {
     "data": {
      "text/html": [
       "<div>\n",
       "<style scoped>\n",
       "    .dataframe tbody tr th:only-of-type {\n",
       "        vertical-align: middle;\n",
       "    }\n",
       "\n",
       "    .dataframe tbody tr th {\n",
       "        vertical-align: top;\n",
       "    }\n",
       "\n",
       "    .dataframe thead th {\n",
       "        text-align: right;\n",
       "    }\n",
       "</style>\n",
       "<table border=\"1\" class=\"dataframe\">\n",
       "  <thead>\n",
       "    <tr style=\"text-align: right;\">\n",
       "      <th></th>\n",
       "      <th>Start_info</th>\n",
       "      <th>End_info</th>\n",
       "      <th>Category</th>\n",
       "      <th>Pickup</th>\n",
       "      <th>Drop</th>\n",
       "      <th>Distance</th>\n",
       "      <th>Purpose</th>\n",
       "      <th>End_info*</th>\n",
       "      <th>HOUR</th>\n",
       "      <th>DAY</th>\n",
       "      <th>DAY_OF_WEEK</th>\n",
       "      <th>MONTH</th>\n",
       "      <th>WEEKDAY</th>\n",
       "    </tr>\n",
       "  </thead>\n",
       "  <tbody>\n",
       "    <tr>\n",
       "      <th>0</th>\n",
       "      <td>2016-01-01 21:11:00</td>\n",
       "      <td>1/1/2016 21:17</td>\n",
       "      <td>Business</td>\n",
       "      <td>Fort Pierce</td>\n",
       "      <td>Fort Pierce</td>\n",
       "      <td>5.1</td>\n",
       "      <td>Meal/Entertain</td>\n",
       "      <td>2016-01-01 21:17:00</td>\n",
       "      <td>21</td>\n",
       "      <td>1</td>\n",
       "      <td>4</td>\n",
       "      <td>1</td>\n",
       "      <td>Friday</td>\n",
       "    </tr>\n",
       "    <tr>\n",
       "      <th>2</th>\n",
       "      <td>2016-01-02 20:25:00</td>\n",
       "      <td>1/2/2016 20:38</td>\n",
       "      <td>Business</td>\n",
       "      <td>Fort Pierce</td>\n",
       "      <td>Fort Pierce</td>\n",
       "      <td>4.8</td>\n",
       "      <td>Errand/Supplies</td>\n",
       "      <td>2016-01-02 20:38:00</td>\n",
       "      <td>20</td>\n",
       "      <td>2</td>\n",
       "      <td>5</td>\n",
       "      <td>1</td>\n",
       "      <td>Saturday</td>\n",
       "    </tr>\n",
       "    <tr>\n",
       "      <th>3</th>\n",
       "      <td>2016-01-05 17:31:00</td>\n",
       "      <td>1/5/2016 17:45</td>\n",
       "      <td>Business</td>\n",
       "      <td>Fort Pierce</td>\n",
       "      <td>Fort Pierce</td>\n",
       "      <td>4.7</td>\n",
       "      <td>Meeting</td>\n",
       "      <td>2016-01-05 17:45:00</td>\n",
       "      <td>17</td>\n",
       "      <td>5</td>\n",
       "      <td>1</td>\n",
       "      <td>1</td>\n",
       "      <td>Tuesday</td>\n",
       "    </tr>\n",
       "    <tr>\n",
       "      <th>4</th>\n",
       "      <td>2016-01-06 14:42:00</td>\n",
       "      <td>1/6/2016 15:49</td>\n",
       "      <td>Business</td>\n",
       "      <td>Fort Pierce</td>\n",
       "      <td>West Palm Beach</td>\n",
       "      <td>63.7</td>\n",
       "      <td>Customer Visit</td>\n",
       "      <td>2016-01-06 15:49:00</td>\n",
       "      <td>14</td>\n",
       "      <td>6</td>\n",
       "      <td>2</td>\n",
       "      <td>1</td>\n",
       "      <td>Wednesday</td>\n",
       "    </tr>\n",
       "    <tr>\n",
       "      <th>5</th>\n",
       "      <td>2016-01-06 17:15:00</td>\n",
       "      <td>1/6/2016 17:19</td>\n",
       "      <td>Business</td>\n",
       "      <td>West Palm Beach</td>\n",
       "      <td>West Palm Beach</td>\n",
       "      <td>4.3</td>\n",
       "      <td>Meal/Entertain</td>\n",
       "      <td>2016-01-06 17:19:00</td>\n",
       "      <td>17</td>\n",
       "      <td>6</td>\n",
       "      <td>2</td>\n",
       "      <td>1</td>\n",
       "      <td>Wednesday</td>\n",
       "    </tr>\n",
       "  </tbody>\n",
       "</table>\n",
       "</div>"
      ],
      "text/plain": [
       "           Start_info        End_info  Category           Pickup  \\\n",
       "0 2016-01-01 21:11:00  1/1/2016 21:17  Business      Fort Pierce   \n",
       "2 2016-01-02 20:25:00  1/2/2016 20:38  Business      Fort Pierce   \n",
       "3 2016-01-05 17:31:00  1/5/2016 17:45  Business      Fort Pierce   \n",
       "4 2016-01-06 14:42:00  1/6/2016 15:49  Business      Fort Pierce   \n",
       "5 2016-01-06 17:15:00  1/6/2016 17:19  Business  West Palm Beach   \n",
       "\n",
       "              Drop  Distance          Purpose           End_info*  HOUR  DAY  \\\n",
       "0      Fort Pierce       5.1   Meal/Entertain 2016-01-01 21:17:00    21    1   \n",
       "2      Fort Pierce       4.8  Errand/Supplies 2016-01-02 20:38:00    20    2   \n",
       "3      Fort Pierce       4.7          Meeting 2016-01-05 17:45:00    17    5   \n",
       "4  West Palm Beach      63.7   Customer Visit 2016-01-06 15:49:00    14    6   \n",
       "5  West Palm Beach       4.3   Meal/Entertain 2016-01-06 17:19:00    17    6   \n",
       "\n",
       "   DAY_OF_WEEK  MONTH    WEEKDAY  \n",
       "0            4      1     Friday  \n",
       "2            5      1   Saturday  \n",
       "3            1      1    Tuesday  \n",
       "4            2      1  Wednesday  \n",
       "5            2      1  Wednesday  "
      ]
     },
     "execution_count": 82,
     "metadata": {},
     "output_type": "execute_result"
    }
   ],
   "source": [
    "df.head()"
   ]
  },
  {
   "cell_type": "markdown",
   "id": "7c51677d",
   "metadata": {},
   "source": [
    "# Categories In dataset"
   ]
  },
  {
   "cell_type": "code",
   "execution_count": 83,
   "id": "c878758e",
   "metadata": {},
   "outputs": [
    {
     "data": {
      "text/plain": [
       "Business    647\n",
       "Personal      6\n",
       "Name: Category, dtype: int64"
      ]
     },
     "execution_count": 83,
     "metadata": {},
     "output_type": "execute_result"
    }
   ],
   "source": [
    "df['Category'].value_counts()"
   ]
  },
  {
   "cell_type": "code",
   "execution_count": 84,
   "id": "23cf8700",
   "metadata": {},
   "outputs": [
    {
     "data": {
      "text/plain": [
       "<AxesSubplot:xlabel='Category', ylabel='count'>"
      ]
     },
     "execution_count": 84,
     "metadata": {},
     "output_type": "execute_result"
    },
    {
     "data": {
      "image/png": "[encoded data removed]",
      "text/plain": [
       "<Figure size 432x288 with 1 Axes>"
      ]
     },
     "metadata": {
      "needs_background": "light"
     },
     "output_type": "display_data"
    }
   ],
   "source": [
    "sns.countplot(x='Category', data=df)"
   ]
  },
  {
   "cell_type": "markdown",
   "id": "fa660918",
   "metadata": {},
   "source": [
    "As shown in graph large number of business rides in  category as against very few personal rides."
   ]
  },
  {
   "cell_type": "markdown",
   "id": "d6d27739",
   "metadata": {},
   "source": [
    "# Distance traveled"
   ]
  },
  {
   "cell_type": "code",
   "execution_count": 99,
   "id": "892e1e47",
   "metadata": {},
   "outputs": [
    {
     "data": {
      "text/plain": [
       "<AxesSubplot:ylabel='Frequency'>"
      ]
     },
     "execution_count": 99,
     "metadata": {},
     "output_type": "execute_result"
    },
    {
     "data": {
      "image/png": "[encoded data removed]",
      "text/plain": [
       "<Figure size 648x360 with 1 Axes>"
      ]
     },
     "metadata": {
      "needs_background": "light"
     },
     "output_type": "display_data"
    }
   ],
   "source": [
    "df['Distance'].plot(kind='hist',color='Pink',figsize=(9,5))"
   ]
  },
  {
   "cell_type": "markdown",
   "id": "1286a97d",
   "metadata": {},
   "source": [
    "As ps graph mostly people travel in a short mile."
   ]
  },
  {
   "cell_type": "markdown",
   "id": "092dce1e",
   "metadata": {},
   "source": [
    "#  Time Consumed to reach Destination"
   ]
  },
  {
   "cell_type": "code",
   "execution_count": 86,
   "id": "47a64105",
   "metadata": {},
   "outputs": [
    {
     "data": {
      "text/plain": [
       "Text(0.5, 1.0, 'Number of trips Vs hours')"
      ]
     },
     "execution_count": 86,
     "metadata": {},
     "output_type": "execute_result"
    },
    {
     "data": {
      "image/png": "[encoded data removed]",
      "text/plain": [
       "<Figure size 720x360 with 1 Axes>"
      ]
     },
     "metadata": {
      "needs_background": "light"
     },
     "output_type": "display_data"
    }
   ],
   "source": [
    "hours = df['Start_info'].dt.hour.value_counts()\n",
    "hours.plot(kind='bar',color='Green',figsize=(10,5))\n",
    "plt.xlabel('Hours')\n",
    "plt.ylabel('Frequency')\n",
    "plt.title('Number of trips Vs hours')"
   ]
  },
  {
   "cell_type": "markdown",
   "id": "e7b55d64",
   "metadata": {},
   "source": [
    "As we can see most people take Uber to their destination around the 13th hour(1pm) and the least hour is 2 am."
   ]
  },
  {
   "cell_type": "markdown",
   "id": "a1f72110",
   "metadata": {},
   "source": [
    "# Purpose of trip"
   ]
  },
  {
   "cell_type": "code",
   "execution_count": 87,
   "id": "83eacf5c",
   "metadata": {},
   "outputs": [
    {
     "data": {
      "text/plain": [
       "<AxesSubplot:>"
      ]
     },
     "execution_count": 87,
     "metadata": {},
     "output_type": "execute_result"
    },
    {
     "data": {
      "image/png": "[encoded data removed]",
      "text/plain": [
       "<Figure size 720x360 with 1 Axes>"
      ]
     },
     "metadata": {
      "needs_background": "light"
     },
     "output_type": "display_data"
    }
   ],
   "source": [
    "df['Purpose'].value_counts().plot(kind='bar',figsize=(10,5),color='brown')"
   ]
  },
  {
   "cell_type": "markdown",
   "id": "4520c7c4",
   "metadata": {},
   "source": [
    "We can see graph that mostly the purpose of the trip is meeting and meal/entertain."
   ]
  },
  {
   "cell_type": "markdown",
   "id": "8a37b38d",
   "metadata": {},
   "source": [
    "# Days with the Highest Number Of Trips"
   ]
  },
  {
   "cell_type": "code",
   "execution_count": 100,
   "id": "5a2b0a0b",
   "metadata": {},
   "outputs": [
    {
     "data": {
      "text/plain": [
       "<AxesSubplot:>"
      ]
     },
     "execution_count": 100,
     "metadata": {},
     "output_type": "execute_result"
    },
    {
     "data": {
      "image/png": "[encoded data removed]",
      "text/plain": [
       "<Figure size 720x360 with 1 Axes>"
      ]
     },
     "metadata": {
      "needs_background": "light"
     },
     "output_type": "display_data"
    }
   ],
   "source": [
    "df['WEEKDAY'].value_counts().plot(kind='bar',figsize=(10,5),color='Olive')"
   ]
  },
  {
   "cell_type": "markdown",
   "id": "03c0eea7",
   "metadata": {},
   "source": [
    "So Friday has the highest number of Trips."
   ]
  },
  {
   "cell_type": "markdown",
   "id": "73a904b2",
   "metadata": {},
   "source": [
    "# Number Of Trips Per Day?"
   ]
  },
  {
   "cell_type": "code",
   "execution_count": 105,
   "id": "3804b454",
   "metadata": {},
   "outputs": [
    {
     "data": {
      "text/plain": [
       "Text(0, 0.5, 'Number of trips')"
      ]
     },
     "execution_count": 105,
     "metadata": {},
     "output_type": "execute_result"
    },
    {
     "data": {
      "image/png": "[encoded data removed]",
      "text/plain": [
       "<Figure size 720x360 with 1 Axes>"
      ]
     },
     "metadata": {
      "needs_background": "light"
     },
     "output_type": "display_data"
    }
   ],
   "source": [
    "df['DAY'].value_counts().plot(kind='bar',figsize=(10,5),color='Blue')\n",
    "plt.xlabel('Date')\n",
    "plt.ylabel('Number of trips')"
   ]
  },
  {
   "cell_type": "markdown",
   "id": "361c35ce",
   "metadata": {},
   "source": [
    "As shown in the graph on 21st higgest number of trip is taken"
   ]
  },
  {
   "cell_type": "markdown",
   "id": "47c66e60",
   "metadata": {},
   "source": [
    "# Trips In A Month."
   ]
  },
  {
   "cell_type": "code",
   "execution_count": 90,
   "id": "72846afe",
   "metadata": {},
   "outputs": [
    {
     "data": {
      "text/plain": [
       "<AxesSubplot:>"
      ]
     },
     "execution_count": 90,
     "metadata": {},
     "output_type": "execute_result"
    },
    {
     "data": {
      "image/png": "[encoded data removed]",
      "text/plain": [
       "<Figure size 720x360 with 1 Axes>"
      ]
     },
     "metadata": {
      "needs_background": "light"
     },
     "output_type": "display_data"
    }
   ],
   "source": [
    "df['MONTH'].value_counts().plot(kind='bar',figsize=(10,5),color='Red')"
   ]
  },
  {
   "cell_type": "markdown",
   "id": "2967ca8c",
   "metadata": {},
   "source": [
    "As per the graph December(12) has the most trips."
   ]
  },
  {
   "cell_type": "markdown",
   "id": "90ce5470",
   "metadata": {},
   "source": [
    "# Highest Pickup Point"
   ]
  },
  {
   "cell_type": "code",
   "execution_count": 106,
   "id": "a34a8874",
   "metadata": {},
   "outputs": [
    {
     "data": {
      "text/plain": [
       "<AxesSubplot:>"
      ]
     },
     "execution_count": 106,
     "metadata": {},
     "output_type": "execute_result"
    },
    {
     "data": {
      "image/png": "[encoded data removed]",
      "text/plain": [
       "<Figure size 1800x720 with 1 Axes>"
      ]
     },
     "metadata": {
      "needs_background": "light"
     },
     "output_type": "display_data"
    }
   ],
   "source": [
    "df['Pickup'].value_counts().plot(kind='bar',figsize=(25,10),color='Black')"
   ]
  },
  {
   "cell_type": "markdown",
   "id": "d6420f03",
   "metadata": {},
   "source": [
    "According to the dataset people starts their journey from Cary followed by some unknown location and then Morrisville."
   ]
  }
 ],
 "metadata": {
  "kernelspec": {
   "display_name": "Python 3 (ipykernel)",
   "language": "python",
   "name": "python3"
  },
  "language_info": {
   "codemirror_mode": {
    "name": "ipython",
    "version": 3
   },
   "file_extension": ".py",
   "mimetype": "text/x-python",
   "name": "python",
   "nbconvert_exporter": "python",
   "pygments_lexer": "ipython3",
   "version": "3.9.12"
  }
 },
 "nbformat": 4,
 "nbformat_minor": 5
}
